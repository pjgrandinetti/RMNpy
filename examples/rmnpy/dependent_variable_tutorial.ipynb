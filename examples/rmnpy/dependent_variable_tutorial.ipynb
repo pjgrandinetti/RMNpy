{
 "cells": [
  {
   "cell_type": "markdown",
   "id": "6a24bb6e",
   "metadata": {},
   "source": [
    "# RMNpy DependentVariable Tutorial\n",
    "\n",
    "This tutorial demonstrates how to work with the `DependentVariable` class in RMNpy, which represents multi-dimensional scientific data with units and physical quantities. The examples are based on the comprehensive test suite for `DependentVariable`.\n",
    "\n",
    "## Table of Contents\n",
    "1. [Import Required Libraries](#import-required-libraries)\n",
    "2. [Basic DependentVariable Creation](#basic-dependentvariable-creation)\n",
    "3. [Property Manipulation](#property-manipulation)\n",
    "4. [Working with Different Data Types](#working-with-different-data-types)\n",
    "5. [Data Operations and Manipulation](#data-operations-and-manipulation)\n",
    "6. [Units and Physical Quantities](#units-and-physical-quantities)\n",
    "7. [Error Handling and Validation](#error-handling-and-validation)\n",
    "8. [Advanced Features](#advanced-features)"
   ]
  },
  {
   "cell_type": "markdown",
   "id": "04f2fc80",
   "metadata": {},
   "source": [
    "## Import Required Libraries\n",
    "\n",
    "First, let's import all the necessary modules for working with DependentVariable:"
   ]
  },
  {
   "cell_type": "code",
   "execution_count": 1,
   "id": "ec9f7f5b",
   "metadata": {},
   "outputs": [
    {
     "name": "stdout",
     "output_type": "stream",
     "text": [
      "Successfully imported RMNpy DependentVariable and related modules\n",
      "Available quantity types: ['AbsorbedDose', 'AbsorbedDoseRate', 'Acceleration', 'Action', 'Amount']...\n"
     ]
    }
   ],
   "source": [
    "import numpy as np\n",
    "import matplotlib.pyplot as plt\n",
    "\n",
    "# Import DependentVariable and related classes\n",
    "from rmnpy import DependentVariable\n",
    "from rmnpy.sitypes import quantity as q\n",
    "from rmnpy.sitypes import Unit\n",
    "\n",
    "# Set up matplotlib for inline plotting\n",
    "plt.style.use('default')\n",
    "plt.rcParams['figure.figsize'] = (10, 6)\n",
    "\n",
    "print(\"Successfully imported RMNpy DependentVariable and related modules\")\n",
    "print(f\"Available quantity types: {dir(q)[:5]}...\")  # Show first 5 quantities"
   ]
  },
  {
   "cell_type": "markdown",
   "id": "38b72ee4",
   "metadata": {},
   "source": [
    "## Basic DependentVariable Creation\n",
    "\n",
    "Let's start by creating basic DependentVariable instances following the patterns from the test suite:"
   ]
  },
  {
   "cell_type": "code",
   "execution_count": 2,
   "id": "622c49a2",
   "metadata": {},
   "outputs": [
    {
     "name": "stdout",
     "output_type": "stream",
     "text": [
      "DEBUG: Created OCData with TypeID: 7, Type name: OCData\n",
      "Created DependentVariable with name: 'basic_example'\n",
      "Description: 'A simple DependentVariable example'\n",
      "Size: 4\n",
      "Quantity type: scalar\n",
      "Quantity name: dimensionless\n",
      "Components: [array([1., 2., 3., 4.])]\n"
     ]
    }
   ],
   "source": [
    "# Create a simple scalar DependentVariable with float64 data\n",
    "data = np.array([1.0, 2.0, 3.0, 4.0], dtype=np.float64)\n",
    "\n",
    "# Create DependentVariable with minimal parameters (following test patterns)\n",
    "dv_basic = DependentVariable(\n",
    "    components=[data],\n",
    "    name=\"basic_example\",\n",
    "    description=\"A simple DependentVariable example\",\n",
    "    unit=\" \",  # dimensionless unit\n",
    "    quantity_name=q.Dimensionless,\n",
    "    quantity_type=\"scalar\",\n",
    "    element_type=\"float64\"\n",
    ")\n",
    "\n",
    "print(f\"Created DependentVariable with name: '{dv_basic.name}'\")\n",
    "print(f\"Description: '{dv_basic.description}'\")\n",
    "print(f\"Size: {dv_basic.size}\")\n",
    "print(f\"Quantity type: {dv_basic.quantity_type}\")\n",
    "print(f\"Quantity name: {dv_basic.quantity_name}\")\n",
    "print(f\"Components: {dv_basic.components}\")"
   ]
  },
  {
   "cell_type": "markdown",
   "id": "1714eb6c",
   "metadata": {},
   "source": [
    "## Property Manipulation\n",
    "\n",
    "DependentVariable objects have several properties that can be get and set. Let's explore these:"
   ]
  },
  {
   "cell_type": "code",
   "execution_count": 3,
   "id": "2d965b5a",
   "metadata": {},
   "outputs": [
    {
     "name": "stdout",
     "output_type": "stream",
     "text": [
      "DEBUG: Created OCData with TypeID: 7, Type name: OCData\n",
      "=== Initial State ===\n",
      "Name: ''\n",
      "Description: ''\n",
      "Size: 3\n",
      "\n",
      "=== After Setting Properties ===\n",
      "Name: 'foo'\n",
      "Description: 'bar'\n",
      "\n",
      "Original quantity: dimensionless\n",
      "Updated quantity: length ratio\n"
     ]
    }
   ],
   "source": [
    "# Create a DependentVariable for property testing\n",
    "test_data = np.array([10.0, 20.0, 30.0], dtype=np.float64)\n",
    "dv_props = DependentVariable(\n",
    "    components=[test_data],\n",
    "    name=\"\",  # Start with empty name\n",
    "    description=\"\",  # Start with empty description\n",
    "    unit=\" \",\n",
    "    quantity_name=q.Dimensionless,\n",
    "    quantity_type=\"scalar\",\n",
    "    element_type=\"float64\"\n",
    ")\n",
    "\n",
    "print(\"=== Initial State ===\")\n",
    "print(f\"Name: '{dv_props.name}'\")\n",
    "print(f\"Description: '{dv_props.description}'\")\n",
    "print(f\"Size: {dv_props.size}\")\n",
    "\n",
    "# Test property setters (following C test patterns)\n",
    "dv_props.name = \"foo\"\n",
    "dv_props.description = \"bar\"\n",
    "\n",
    "print(\"\\n=== After Setting Properties ===\")\n",
    "print(f\"Name: '{dv_props.name}'\")\n",
    "print(f\"Description: '{dv_props.description}'\")\n",
    "\n",
    "# Test quantity name changes\n",
    "print(f\"\\nOriginal quantity: {dv_props.quantity_name}\")\n",
    "dv_props.quantity_name = q.LengthRatio\n",
    "print(f\"Updated quantity: {dv_props.quantity_name}\")"
   ]
  },
  {
   "cell_type": "markdown",
   "id": "e8e2b876",
   "metadata": {},
   "source": [
    "### Size Property Manipulation\n",
    "\n",
    "The size property can be dynamically changed:"
   ]
  },
  {
   "cell_type": "code",
   "execution_count": 4,
   "id": "3aa99db3",
   "metadata": {},
   "outputs": [
    {
     "name": "stdout",
     "output_type": "stream",
     "text": [
      "DEBUG: Created OCData with TypeID: 7, Type name: OCData\n",
      "Initial size: 3\n",
      "After increasing to 5: 5\n",
      "After decreasing to 2: 2\n",
      "After setting to 0: 0\n",
      "✓ Correctly caught error for negative size: Size must be non-negative\n"
     ]
    }
   ],
   "source": [
    "# Create DependentVariable for size testing\n",
    "size_data = np.array([1.0, 2.0, 3.0], dtype=np.float64)\n",
    "dv_size = DependentVariable(\n",
    "    components=[size_data],\n",
    "    name=\"size_test\",\n",
    "    description=\"Testing size manipulation\",\n",
    "    unit=\" \",\n",
    "    quantity_name=q.Dimensionless,\n",
    "    quantity_type=\"scalar\",\n",
    "    element_type=\"float64\"\n",
    ")\n",
    "\n",
    "print(f\"Initial size: {dv_size.size}\")\n",
    "\n",
    "# Increase size\n",
    "dv_size.size = 5\n",
    "print(f\"After increasing to 5: {dv_size.size}\")\n",
    "\n",
    "# Decrease size\n",
    "dv_size.size = 2\n",
    "print(f\"After decreasing to 2: {dv_size.size}\")\n",
    "\n",
    "# Set to zero (should be valid)\n",
    "dv_size.size = 0\n",
    "print(f\"After setting to 0: {dv_size.size}\")\n",
    "\n",
    "# Test invalid size (this will raise an error)\n",
    "try:\n",
    "    dv_size.size = -1\n",
    "    print(\"ERROR: Negative size should not be allowed!\")\n",
    "except ValueError as e:\n",
    "    print(f\"✓ Correctly caught error for negative size: {e}\")"
   ]
  },
  {
   "cell_type": "markdown",
   "id": "ff5e874c",
   "metadata": {},
   "source": [
    "## Working with Different Data Types\n",
    "\n",
    "DependentVariable can handle various data types including complex numbers:"
   ]
  },
  {
   "cell_type": "code",
   "execution_count": 5,
   "id": "3447ce0f",
   "metadata": {},
   "outputs": [
    {
     "name": "stdout",
     "output_type": "stream",
     "text": [
      "DEBUG: Created OCData with TypeID: 7, Type name: OCData\n",
      "Complex DependentVariable created:\n",
      "Name: complex_data\n",
      "Component count: 1\n",
      "Size: 4\n",
      "Element type: complex128\n",
      "Complex data: [1.+0.5j 2.+1.j  3.+1.5j 4.+2.j ]\n",
      "\n",
      "Real parts: [1. 2. 3. 4.]\n",
      "Imaginary parts: [0.5 1.  1.5 2. ]\n",
      "Magnitudes: [1.11803399 2.23606798 3.35410197 4.47213595]\n",
      "Phases (radians): [0.46364761 0.46364761 0.46364761 0.46364761]\n"
     ]
    }
   ],
   "source": [
    "# Create DependentVariable with complex data\n",
    "complex_data = np.array([1.0+0.5j, 2.0+1.0j, 3.0+1.5j, 4.0+2.0j], dtype=np.complex128)\n",
    "\n",
    "dv_complex = DependentVariable(\n",
    "    components=[complex_data],\n",
    "    name=\"complex_data\",\n",
    "    description=\"Complex data with real and imaginary parts\",\n",
    "    unit=\" \",\n",
    "    quantity_name=q.Dimensionless,\n",
    "    quantity_type=\"scalar\",\n",
    "    element_type=\"complex128\"\n",
    ")\n",
    "\n",
    "print(f\"Complex DependentVariable created:\")\n",
    "print(f\"Name: {dv_complex.name}\")\n",
    "print(f\"Component count: {dv_complex.component_count}\")\n",
    "print(f\"Size: {dv_complex.size}\")\n",
    "print(f\"Element type: {dv_complex.element_type}\")\n",
    "print(f\"Complex data: {dv_complex.components[0]}\")\n",
    "\n",
    "# Show real and imaginary parts\n",
    "complex_component = np.array(dv_complex.components[0])\n",
    "print(f\"\\nReal parts: {complex_component.real}\")\n",
    "print(f\"Imaginary parts: {complex_component.imag}\")\n",
    "print(f\"Magnitudes: {np.abs(complex_component)}\")\n",
    "print(f\"Phases (radians): {np.angle(complex_component)}\")"
   ]
  },
  {
   "cell_type": "markdown",
   "id": "4fda6f5f",
   "metadata": {},
   "source": [
    "### Updating Components\n",
    "\n",
    "We can update the components of a DependentVariable, but the data type must match the original element type:"
   ]
  },
  {
   "cell_type": "code",
   "execution_count": 6,
   "id": "4bfe56c6",
   "metadata": {},
   "outputs": [
    {
     "name": "stdout",
     "output_type": "stream",
     "text": [
      "=== Before updating components ===\n",
      "Size: 4\n",
      "Component count: 1\n",
      "Element type: complex128\n",
      "\n",
      "=== After setting single component ===\n",
      "Size: 3\n",
      "Component count: 1\n",
      "Component data: [10. +5.j 20.+10.j 30.+15.j]\n",
      "DEBUG: Created OCData with TypeID: 7, Type name: OCData\n",
      "\n",
      "=== Multi-component float data ===\n",
      "Size: 3\n",
      "Component count: 2\n",
      "Component 0: [100. 200. 300.]\n",
      "Component 1: [1000. 2000. 3000.]\n"
     ]
    }
   ],
   "source": [
    "# Create new component data - must match the element type of the DependentVariable\n",
    "# Since dv_complex was created with complex128, we need complex data\n",
    "new_complex_data1 = np.array([10.0+5.0j, 20.0+10.0j, 30.0+15.0j], dtype=np.complex128)\n",
    "\n",
    "print(\"=== Before updating components ===\")\n",
    "print(f\"Size: {dv_complex.size}\")\n",
    "print(f\"Component count: {dv_complex.component_count}\")\n",
    "print(f\"Element type: {dv_complex.element_type}\")\n",
    "\n",
    "# Set single component with complex data\n",
    "dv_complex.components = [new_complex_data1]\n",
    "print(\"\\n=== After setting single component ===\")\n",
    "print(f\"Size: {dv_complex.size}\")\n",
    "print(f\"Component count: {dv_complex.component_count}\")\n",
    "print(f\"Component data: {np.array(dv_complex.components[0])}\")\n",
    "\n",
    "# Create a separate DependentVariable to demonstrate multiple float components\n",
    "float_data1 = np.array([100.0, 200.0, 300.0], dtype=np.float64)\n",
    "float_data2 = np.array([1000.0, 2000.0, 3000.0], dtype=np.float64)\n",
    "\n",
    "dv_multi_float = DependentVariable(\n",
    "    components=[float_data1],\n",
    "    name=\"multi_component_data\",\n",
    "    description=\"Multi-component float data\",\n",
    "    unit=\" \",\n",
    "    quantity_name=q.Dimensionless,\n",
    "    quantity_type=\"scalar\",\n",
    "    element_type=\"float64\"\n",
    ")\n",
    "\n",
    "# Now set multiple float components on the float DependentVariable\n",
    "dv_multi_float.components = [float_data1, float_data2]\n",
    "print(\"\\n=== Multi-component float data ===\")\n",
    "print(f\"Size: {dv_multi_float.size}\")\n",
    "print(f\"Component count: {dv_multi_float.component_count}\")\n",
    "for i, comp in enumerate(dv_multi_float.components):\n",
    "    print(f\"Component {i}: {np.array(comp)}\")"
   ]
  },
  {
   "cell_type": "markdown",
   "id": "a41b09c5",
   "metadata": {},
   "source": [
    "## Data Operations and Manipulation\n",
    "\n",
    "Let's explore data operations like appending DependentVariables:"
   ]
  },
  {
   "cell_type": "code",
   "execution_count": 7,
   "id": "3cb0f234",
   "metadata": {},
   "outputs": [
    {
     "name": "stdout",
     "output_type": "stream",
     "text": [
      "DEBUG: Created OCData with TypeID: 7, Type name: OCData\n",
      "DEBUG: Created OCData with TypeID: 7, Type name: OCData\n",
      "=== Before Append ===\n",
      "DV1 size: 3, components: [array([1., 2., 3.])]\n",
      "DV2 size: 2, components: [array([4., 5.])]\n",
      "\n",
      "=== After Append ===\n",
      "DV1 size: 5, components: [array([1., 2., 3., 4., 5.])]\n",
      "DV2 size: 2 (unchanged)\n"
     ]
    }
   ],
   "source": [
    "# Create first DependentVariable\n",
    "data1 = np.array([1.0, 2.0, 3.0], dtype=np.float64)\n",
    "dv1 = DependentVariable(\n",
    "    components=[data1],\n",
    "    name=\"dataset1\",\n",
    "    description=\"First dataset\",\n",
    "    unit=\" \",\n",
    "    quantity_name=q.Dimensionless,\n",
    "    quantity_type=\"scalar\",\n",
    "    element_type=\"float64\"\n",
    ")\n",
    "\n",
    "# Create second DependentVariable with compatible properties\n",
    "data2 = np.array([4.0, 5.0], dtype=np.float64)\n",
    "dv2 = DependentVariable(\n",
    "    components=[data2],\n",
    "    name=\"dataset2\",\n",
    "    description=\"Second dataset\",\n",
    "    unit=\" \",\n",
    "    quantity_name=q.Dimensionless,\n",
    "    quantity_type=\"scalar\",\n",
    "    element_type=\"float64\"\n",
    ")\n",
    "\n",
    "print(\"=== Before Append ===\")\n",
    "print(f\"DV1 size: {dv1.size}, components: {dv1.components}\")\n",
    "print(f\"DV2 size: {dv2.size}, components: {dv2.components}\")\n",
    "\n",
    "# Append dv2 to dv1\n",
    "dv1.append(dv2)\n",
    "\n",
    "print(\"\\n=== After Append ===\")\n",
    "print(f\"DV1 size: {dv1.size}, components: {dv1.components}\")\n",
    "print(f\"DV2 size: {dv2.size} (unchanged)\")"
   ]
  },
  {
   "cell_type": "markdown",
   "id": "6c8dd8b8",
   "metadata": {},
   "source": [
    "## Units and Physical Quantities\n",
    "\n",
    "DependentVariable integrates seamlessly with SITypes units and quantities:"
   ]
  },
  {
   "cell_type": "code",
   "execution_count": 8,
   "id": "423f914f",
   "metadata": {},
   "outputs": [
    {
     "name": "stdout",
     "output_type": "stream",
     "text": [
      "DEBUG: Created OCData with TypeID: 7, Type name: OCData\n",
      "Velocity DependentVariable created:\n",
      "Name: velocity_measurements\n",
      "Unit symbol: m/s\n",
      "Quantity name: velocity\n",
      "Data: [ 5. 10. 15. 20.] m/s\n",
      "DEBUG: Created OCData with TypeID: 7, Type name: OCData\n",
      "\n",
      "Temperature DependentVariable created:\n",
      "Name: temperature_measurements\n",
      "Unit symbol: K\n",
      "Data: [273.15 298.15 323.15] K\n",
      "DEBUG: Created OCData with TypeID: 7, Type name: OCData\n",
      "\n",
      "Pressure DependentVariable created:\n",
      "Name: pressure_measurements\n",
      "Unit symbol: Pa\n",
      "Data: [101325. 200000. 500000.] Pa\n"
     ]
    }
   ],
   "source": [
    "# Create velocity data with proper units\n",
    "velocity_data = np.array([5.0, 10.0, 15.0, 20.0], dtype=np.float64)\n",
    "velocity_unit = Unit(\"m/s\")\n",
    "\n",
    "dv_velocity = DependentVariable(\n",
    "    components=[velocity_data],\n",
    "    name=\"velocity_measurements\",\n",
    "    description=\"Velocity data from experiment\",\n",
    "    unit=velocity_unit,\n",
    "    quantity_name=\"velocity\",\n",
    "    quantity_type=\"scalar\",\n",
    "    element_type=\"float64\"\n",
    ")\n",
    "\n",
    "print(f\"Velocity DependentVariable created:\")\n",
    "print(f\"Name: {dv_velocity.name}\")\n",
    "print(f\"Unit symbol: {dv_velocity.unit.symbol}\")\n",
    "print(f\"Quantity name: {dv_velocity.quantity_name}\")\n",
    "print(f\"Data: {dv_velocity.components[0]} {dv_velocity.unit.symbol}\")\n",
    "\n",
    "# Create temperature data\n",
    "temperature_data = np.array([273.15, 298.15, 323.15], dtype=np.float64)\n",
    "temperature_unit = Unit(\"K\")\n",
    "\n",
    "dv_temperature = DependentVariable(\n",
    "    components=[temperature_data],\n",
    "    name=\"temperature_measurements\",\n",
    "    description=\"Temperature readings\",\n",
    "    unit=temperature_unit,\n",
    "    quantity_name=\"temperature\",\n",
    "    quantity_type=\"scalar\",\n",
    "    element_type=\"float64\"\n",
    ")\n",
    "\n",
    "print(f\"\\nTemperature DependentVariable created:\")\n",
    "print(f\"Name: {dv_temperature.name}\")\n",
    "print(f\"Unit symbol: {dv_temperature.unit.symbol}\")\n",
    "print(f\"Data: {dv_temperature.components[0]} {dv_temperature.unit.symbol}\")\n",
    "\n",
    "# Create pressure data\n",
    "pressure_data = np.array([101325.0, 200000.0, 500000.0], dtype=np.float64)\n",
    "pressure_unit = Unit(\"Pa\")\n",
    "\n",
    "dv_pressure = DependentVariable(\n",
    "    components=[pressure_data],\n",
    "    name=\"pressure_measurements\",\n",
    "    description=\"Pressure readings\",\n",
    "    unit=pressure_unit,\n",
    "    quantity_name=\"pressure\",\n",
    "    quantity_type=\"scalar\",\n",
    "    element_type=\"float64\"\n",
    ")\n",
    "\n",
    "print(f\"\\nPressure DependentVariable created:\")\n",
    "print(f\"Name: {dv_pressure.name}\")\n",
    "print(f\"Unit symbol: {dv_pressure.unit.symbol}\")\n",
    "print(f\"Data: {dv_pressure.components[0]} {dv_pressure.unit.symbol}\")"
   ]
  },
  {
   "cell_type": "markdown",
   "id": "f8ffb358",
   "metadata": {},
   "source": [
    "### Visualizing DependentVariable Data\n",
    "\n",
    "Let's create some visualizations of our DependentVariable data:"
   ]
  },
  {
   "cell_type": "code",
   "execution_count": 9,
   "id": "ec56ad48",
   "metadata": {},
   "outputs": [
    {
     "data": {
      "image/png": "[encoded data removed]",
      "text/plain": [
       "<Figure size 1200x800 with 5 Axes>"
      ]
     },
     "metadata": {},
     "output_type": "display_data"
    },
    {
     "name": "stdout",
     "output_type": "stream",
     "text": [
      "Created visualization of DependentVariable data with proper units and labels\n"
     ]
    }
   ],
   "source": [
    "# Create a figure with subplots for different measurements\n",
    "fig, axes = plt.subplots(2, 2, figsize=(12, 8))\n",
    "fig.suptitle('DependentVariable Data Visualization', fontsize=16)\n",
    "\n",
    "# Plot velocity data\n",
    "axes[0, 0].plot(dv_velocity.components[0], 'bo-', linewidth=2, markersize=6)\n",
    "axes[0, 0].set_title(f'{dv_velocity.name}')\n",
    "axes[0, 0].set_ylabel(f'Velocity ({dv_velocity.unit.symbol})')\n",
    "axes[0, 0].set_xlabel('Sample Index')\n",
    "axes[0, 0].grid(True, alpha=0.3)\n",
    "\n",
    "# Plot temperature data\n",
    "axes[0, 1].plot(dv_temperature.components[0], 'ro-', linewidth=2, markersize=6)\n",
    "axes[0, 1].set_title(f'{dv_temperature.name}')\n",
    "axes[0, 1].set_ylabel(f'Temperature ({dv_temperature.unit.symbol})')\n",
    "axes[0, 1].set_xlabel('Sample Index')\n",
    "axes[0, 1].grid(True, alpha=0.3)\n",
    "\n",
    "# Plot pressure data\n",
    "axes[1, 0].plot(dv_pressure.components[0], 'go-', linewidth=2, markersize=6)\n",
    "axes[1, 0].set_title(f'{dv_pressure.name}')\n",
    "axes[1, 0].set_ylabel(f'Pressure ({dv_pressure.unit.symbol})')\n",
    "axes[1, 0].set_xlabel('Sample Index')\n",
    "axes[1, 0].grid(True, alpha=0.3)\n",
    "\n",
    "# Plot complex data (magnitude and phase)\n",
    "complex_data = np.array(dv_complex.components[0])\n",
    "magnitude = np.abs(complex_data)\n",
    "phase = np.angle(complex_data)\n",
    "\n",
    "axes[1, 1].plot(magnitude, 'b-', label='Magnitude', linewidth=2, marker='o')\n",
    "ax2 = axes[1, 1].twinx()\n",
    "ax2.plot(phase, 'r--', label='Phase (rad)', linewidth=2, marker='s')\n",
    "axes[1, 1].set_title(f'{dv_complex.name}')\n",
    "axes[1, 1].set_ylabel('Magnitude', color='b')\n",
    "ax2.set_ylabel('Phase (radians)', color='r')\n",
    "axes[1, 1].set_xlabel('Sample Index')\n",
    "axes[1, 1].legend(loc='upper left')\n",
    "ax2.legend(loc='upper right')\n",
    "axes[1, 1].grid(True, alpha=0.3)\n",
    "\n",
    "plt.tight_layout()\n",
    "plt.show()\n",
    "\n",
    "print(\"Created visualization of DependentVariable data with proper units and labels\")"
   ]
  },
  {
   "cell_type": "markdown",
   "id": "9550958e",
   "metadata": {},
   "source": [
    "## Error Handling and Validation\n",
    "\n",
    "Let's test various error conditions and how DependentVariable handles them:"
   ]
  },
  {
   "cell_type": "code",
   "execution_count": 10,
   "id": "e0bf01e2",
   "metadata": {},
   "outputs": [
    {
     "name": "stdout",
     "output_type": "stream",
     "text": [
      "DEBUG: Created OCData with TypeID: 7, Type name: OCData\n",
      "=== Testing Error Conditions ===\n",
      "\n",
      "1. Testing append with invalid types:\n",
      "✓ Correctly caught TypeError: other must be a DependentVariable\n",
      "✓ Correctly caught TypeError: other must be a DependentVariable\n",
      "\n",
      "2. Testing invalid size values:\n",
      "✓ Correctly caught ValueError for negative size: Size must be non-negative\n",
      "\n",
      "3. Testing operations on uninitialized DependentVariable:\n",
      "✓ Correctly caught ValueError: DependentVariable not initialized\n",
      "✓ Correctly caught ValueError: other DependentVariable not initialized\n",
      "\n",
      "✅ All error handling tests passed!\n"
     ]
    }
   ],
   "source": [
    "# Create a test DependentVariable for error testing\n",
    "test_data = np.array([1.0, 2.0, 3.0], dtype=np.float64)\n",
    "dv_test = DependentVariable(\n",
    "    components=[test_data],\n",
    "    name=\"error_test\",\n",
    "    description=\"Testing error conditions\",\n",
    "    unit=\" \",\n",
    "    quantity_name=q.Dimensionless,\n",
    "    quantity_type=\"scalar\",\n",
    "    element_type=\"float64\"\n",
    ")\n",
    "\n",
    "print(\"=== Testing Error Conditions ===\")\n",
    "\n",
    "# Test 1: Appending invalid types\n",
    "print(\"\\n1. Testing append with invalid types:\")\n",
    "try:\n",
    "    dv_test.append(\"not a dependent variable\")\n",
    "    print(\"ERROR: Should have raised TypeError!\")\n",
    "except TypeError as e:\n",
    "    print(f\"✓ Correctly caught TypeError: {e}\")\n",
    "\n",
    "try:\n",
    "    dv_test.append([1, 2, 3])\n",
    "    print(\"ERROR: Should have raised TypeError!\")\n",
    "except TypeError as e:\n",
    "    print(f\"✓ Correctly caught TypeError: {e}\")\n",
    "\n",
    "# Test 2: Invalid size values\n",
    "print(\"\\n2. Testing invalid size values:\")\n",
    "try:\n",
    "    dv_test.size = -5\n",
    "    print(\"ERROR: Should have raised ValueError!\")\n",
    "except ValueError as e:\n",
    "    print(f\"✓ Correctly caught ValueError for negative size: {e}\")\n",
    "\n",
    "# Test 3: Operations on uninitialized DependentVariable\n",
    "print(\"\\n3. Testing operations on uninitialized DependentVariable:\")\n",
    "try:\n",
    "    uninitialized_dv = DependentVariable.__new__(DependentVariable)\n",
    "    uninitialized_dv.append(dv_test)\n",
    "    print(\"ERROR: Should have raised ValueError!\")\n",
    "except ValueError as e:\n",
    "    print(f\"✓ Correctly caught ValueError: {e}\")\n",
    "\n",
    "try:\n",
    "    other_uninitialized = DependentVariable.__new__(DependentVariable)\n",
    "    dv_test.append(other_uninitialized)\n",
    "    print(\"ERROR: Should have raised ValueError!\")\n",
    "except ValueError as e:\n",
    "    print(f\"✓ Correctly caught ValueError: {e}\")\n",
    "\n",
    "print(\"\\n✅ All error handling tests passed!\")"
   ]
  },
  {
   "cell_type": "markdown",
   "id": "347e16b5",
   "metadata": {},
   "source": [
    "## Advanced Features\n",
    "\n",
    "Let's explore different import styles and advanced usage patterns:"
   ]
  },
  {
   "cell_type": "code",
   "execution_count": 11,
   "id": "fb3ac4e6",
   "metadata": {},
   "outputs": [
    {
     "name": "stdout",
     "output_type": "stream",
     "text": [
      "=== Testing Different Import Styles ===\n",
      "\n",
      "1. Explicit imports:\n",
      "✗ Explicit import failed: No module named 'rmnpy.dependent_variable'\n",
      "\n",
      "2. Convenience imports:\n",
      "DEBUG: Created OCData with TypeID: 7, Type name: OCData\n",
      "✓ Convenience import successful: temperature_data with unit K\n",
      "\n",
      "3. Namespace alias imports:\n",
      "DEBUG: Created OCData with TypeID: 7, Type name: OCData\n",
      "✓ Namespace alias successful: pressure_data with unit Pa\n",
      "✓ Quantity access: dimensionless\n",
      "\n",
      "✅ All import styles work correctly!\n"
     ]
    }
   ],
   "source": [
    "# Test different import styles\n",
    "print(\"=== Testing Different Import Styles ===\")\n",
    "\n",
    "# 1. Explicit imports\n",
    "print(\"\\n1. Explicit imports:\")\n",
    "try:\n",
    "    from rmnpy.dependent_variable import DependentVariable as ExplicitDV\n",
    "    from rmnpy.sitypes.unit import Unit as ExplicitUnit\n",
    "    \n",
    "    unit = ExplicitUnit(\"kg\")\n",
    "    data = np.array([1.0, 2.0], dtype=np.float64)\n",
    "    dv_explicit = ExplicitDV(\n",
    "        components=[data],\n",
    "        name=\"mass_data\",\n",
    "        description=\"Mass measurements\",\n",
    "        unit=unit,\n",
    "        quantity_name=\"mass\",\n",
    "        quantity_type=\"scalar\",\n",
    "        element_type=\"float64\"\n",
    "    )\n",
    "    print(f\"✓ Explicit import successful: {dv_explicit.name} with unit {dv_explicit.unit.symbol}\")\n",
    "except ImportError as e:\n",
    "    print(f\"✗ Explicit import failed: {e}\")\n",
    "\n",
    "# 2. Convenience imports\n",
    "print(\"\\n2. Convenience imports:\")\n",
    "try:\n",
    "    from rmnpy.rmnlib import DependentVariable as ConvenienceDV\n",
    "    from rmnpy.sitypes import Unit as ConvenienceUnit\n",
    "    \n",
    "    unit = ConvenienceUnit(\"K\")\n",
    "    data = np.array([273.15, 298.15], dtype=np.float64)\n",
    "    dv_convenience = ConvenienceDV(\n",
    "        components=[data],\n",
    "        name=\"temperature_data\",\n",
    "        description=\"Temperature measurements\",\n",
    "        unit=unit,\n",
    "        quantity_name=\"temperature\",\n",
    "        quantity_type=\"scalar\",\n",
    "        element_type=\"float64\"\n",
    "    )\n",
    "    print(f\"✓ Convenience import successful: {dv_convenience.name} with unit {dv_convenience.unit.symbol}\")\n",
    "except ImportError as e:\n",
    "    print(f\"✗ Convenience import failed: {e}\")\n",
    "\n",
    "# 3. Namespace alias imports\n",
    "print(\"\\n3. Namespace alias imports:\")\n",
    "import rmnpy as rmn\n",
    "\n",
    "unit = rmn.sitypes.Unit(\"Pa\")\n",
    "data = np.array([101325.0, 200000.0], dtype=np.float64)\n",
    "dv_alias = rmn.DependentVariable(\n",
    "    components=[data],\n",
    "    name=\"pressure_data\",\n",
    "    description=\"Pressure measurements\",\n",
    "    unit=unit,\n",
    "    quantity_name=\"pressure\",\n",
    "    quantity_type=\"scalar\",\n",
    "    element_type=\"float64\"\n",
    ")\n",
    "print(f\"✓ Namespace alias successful: {dv_alias.name} with unit {dv_alias.unit.symbol}\")\n",
    "\n",
    "# Test accessing quantities through namespace\n",
    "print(f\"✓ Quantity access: {rmn.sitypes.quantity.Dimensionless}\")\n",
    "\n",
    "print(\"\\n✅ All import styles work correctly!\")"
   ]
  },
  {
   "cell_type": "markdown",
   "id": "b88a8a18",
   "metadata": {},
   "source": [
    "## Summary\n",
    "\n",
    "This tutorial has demonstrated the key features of RMNpy's `DependentVariable` class:\n",
    "\n",
    "### Key Features Covered:\n",
    "1. **Basic Creation**: Creating DependentVariable instances with data, names, descriptions, and units\n",
    "2. **Property Management**: Getting and setting properties like name, description, size, and quantity\n",
    "3. **Data Types**: Working with scalar and multi-component data\n",
    "4. **Operations**: Appending data and manipulating components\n",
    "5. **Units Integration**: Using SITypes units and physical quantities\n",
    "6. **Error Handling**: Proper validation and error reporting\n",
    "7. **Import Flexibility**: Multiple ways to import and use the classes\n",
    "\n",
    "### Best Practices:\n",
    "- Always specify proper units and quantity names for scientific data\n",
    "- Use descriptive names and descriptions for documentation\n",
    "- Handle errors gracefully when working with user input\n",
    "- Leverage the multi-component capability for complex data types\n",
    "- Take advantage of different import styles for code organization\n",
    "\n",
    "The `DependentVariable` class provides a robust foundation for handling scientific data with proper units, making it ideal for spectroscopy, NMR, and other scientific applications."
   ]
  }
 ],
 "metadata": {
  "kernelspec": {
   "display_name": "rmnpy-dev",
   "language": "python",
   "name": "python3"
  },
  "language_info": {
   "codemirror_mode": {
    "name": "ipython",
    "version": 3
   },
   "file_extension": ".py",
   "mimetype": "text/x-python",
   "name": "python",
   "nbconvert_exporter": "python",
   "pygments_lexer": "ipython3",
   "version": "3.11.8"
  }
 },
 "nbformat": 4,
 "nbformat_minor": 5
}
